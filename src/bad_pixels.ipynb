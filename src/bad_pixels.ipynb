{
 "cells": [
  {
   "cell_type": "code",
   "execution_count": 14,
   "metadata": {},
   "outputs": [],
   "source": [
    "import numpy as np\n",
    "import cv2"
   ]
  },
  {
   "cell_type": "code",
   "execution_count": 16,
   "metadata": {},
   "outputs": [
    {
     "ename": "AttributeError",
     "evalue": "module 'cv2' has no attribute 'ximgproc'",
     "output_type": "error",
     "traceback": [
      "\u001b[1;31m---------------------------------------------------------------------------\u001b[0m",
      "\u001b[1;31mAttributeError\u001b[0m                            Traceback (most recent call last)",
      "Cell \u001b[1;32mIn[16], line 9\u001b[0m\n\u001b[0;32m      6\u001b[0m roi \u001b[39m=\u001b[39m (\u001b[39m0\u001b[39m, \u001b[39m0\u001b[39m, gt_disp\u001b[39m.\u001b[39mshape[\u001b[39m1\u001b[39m], gt_disp\u001b[39m.\u001b[39mshape[\u001b[39m0\u001b[39m])\n\u001b[0;32m      8\u001b[0m \u001b[39m# Compute the percentage of bad pixels with a threshold of 1\u001b[39;00m\n\u001b[1;32m----> 9\u001b[0m bad_pixel_percent \u001b[39m=\u001b[39m cv2\u001b[39m.\u001b[39;49mximgproc\u001b[39m.\u001b[39mcomputeBadPixelPercent(gt_disp, est_disp, roi, thresh\u001b[39m=\u001b[39m\u001b[39m1\u001b[39m)\n\u001b[0;32m     11\u001b[0m \u001b[39m# Print the percentage of bad pixels\u001b[39;00m\n\u001b[0;32m     12\u001b[0m \u001b[39mprint\u001b[39m(\u001b[39m\"\u001b[39m\u001b[39mPercentage of bad pixels: \u001b[39m\u001b[39m{:.2f}\u001b[39;00m\u001b[39m%\u001b[39m\u001b[39m\"\u001b[39m\u001b[39m.\u001b[39mformat(bad_pixel_percent))\n",
      "\u001b[1;31mAttributeError\u001b[0m: module 'cv2' has no attribute 'ximgproc'"
     ]
    }
   ],
   "source": [
    "# Load ground truth and estimated disparity maps\n",
    "gt_disp = cv2.imread(r'C:\\Users\\heloi\\Desktop\\stereo\\middlebury-stereo-matching\\img\\outputs\\depth.png', cv2.IMREAD_GRAYSCALE)\n",
    "est_disp = cv2.imread(r'C:\\Users\\heloi\\Desktop\\stereo\\middlebury-stereo-matching\\img\\outputs\\depth_l_only.png', cv2.IMREAD_GRAYSCALE)\n",
    "\n",
    "# Set the region of interest (ROI)\n",
    "roi = (0, 0, gt_disp.shape[1], gt_disp.shape[0])\n",
    "\n",
    "# Compute the percentage of bad pixels with a threshold of 1\n",
    "bad_pixel_percent = cv2.ximgproc.computeBadPixelPercent(gt_disp, est_disp, roi, thresh=1)\n",
    "\n",
    "# Print the percentage of bad pixels\n",
    "print(\"Percentage of bad pixels: {:.2f}%\".format(bad_pixel_percent))"
   ]
  },
  {
   "cell_type": "code",
   "execution_count": 9,
   "metadata": {},
   "outputs": [
    {
     "name": "stdout",
     "output_type": "stream",
     "text": [
      "Percentage of bad pixels: 96.64%\n"
     ]
    }
   ],
   "source": [
    "# read in the ground truth disparity map\n",
    "gt_disparity = cv2.imread(r'C:\\Users\\heloi\\Desktop\\stereo\\middlebury-stereo-matching\\img\\outputs\\depth.png', cv2.IMREAD_GRAYSCALE)\n",
    "\n",
    "# divide the values by 4 and round to the nearest integer\n",
    "gt_disparity = np.round(gt_disparity / 4).astype(np.uint8)\n",
    "\n",
    "# read in the estimated disparity map\n",
    "est_disparity = cv2.imread(r'C:\\Users\\heloi\\Desktop\\stereo\\middlebury-stereo-matching\\img\\outputs\\depth_l_only.png', cv2.IMREAD_GRAYSCALE)\n",
    "\n",
    "# compute the bad pixels error rate\n",
    "bad_pixels = np.sum(np.abs(gt_disparity - est_disparity) > 5)\n",
    "total_pixels = gt_disparity.shape[0] * gt_disparity.shape[1]\n",
    "error_rate = bad_pixels / total_pixels\n",
    "\n",
    "# print the % of bad pixels\n",
    "print(\"Percentage of bad pixels: {:.2f}%\".format(error_rate * 100))"
   ]
  }
 ],
 "metadata": {
  "kernelspec": {
   "display_name": ".venv",
   "language": "python",
   "name": "python3"
  },
  "language_info": {
   "codemirror_mode": {
    "name": "ipython",
    "version": 3
   },
   "file_extension": ".py",
   "mimetype": "text/x-python",
   "name": "python",
   "nbconvert_exporter": "python",
   "pygments_lexer": "ipython3",
   "version": "3.11.1"
  },
  "orig_nbformat": 4
 },
 "nbformat": 4,
 "nbformat_minor": 2
}
